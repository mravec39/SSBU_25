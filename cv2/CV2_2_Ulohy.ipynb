{
 "cells": [
  {
   "cell_type": "markdown",
   "id": "497228f1-fa14-47b6-83a1-7038726dc50c",
   "metadata": {},
   "source": [
    "## Doplnkové Úlohy\n",
    "\n",
    "---\n",
    "#### Úloha 1: Klasifikácia veku pacienta\n",
    "\n",
    "Vytvorte funkciu, ktorá každého pacienta zaradí do kategórie `minor` (<18 rokov), `adult` (18-65 rokov) alebo `senior` (>65 rokov). \n",
    "- Vstupom do funkcie je parameter `ages`, čo je štruktúra `list` obsahujúca vek niekoľkých pacientov.\n",
    "- Funkcia vracia štruktúru `dictionary`, ktorá pre každú kategóriu obsahuje počet pacientov v nej.\n",
    "- Vytvorte list `ages`, ktorý bude obsahovať aspoň 5 pacientov a vypíšte, počet pacientov podľa veku v jednotlivých kategóriách."
   ]
  },
  {
   "cell_type": "code",
   "id": "9ba64fc4-3e3d-4c1f-9e07-962ffe795964",
   "metadata": {
    "ExecuteTime": {
     "end_time": "2025-02-27T08:23:32.798916Z",
     "start_time": "2025-02-27T08:23:32.794568Z"
    }
   },
   "source": [
    "from unicodedata import category\n",
    "def classify_patients(ages = []):\n",
    "    categories = {\"minor\": 0, \"adult\": 0, \"senior\": 0}\n",
    "\n",
    "    for age in ages:\n",
    "        if age < 18:\n",
    "            categories[\"minor\"] += 1\n",
    "        elif age >= 18 and age <= 65:\n",
    "            categories[\"adult\"] += 1\n",
    "        else:\n",
    "            categories[\"senior\"] += 1\n",
    "    return categories\n",
    "\n",
    "ages = [15, 25, 35, 45, 55, 65, 75, 85]\n",
    "print(classify_patients(ages))"
   ],
   "outputs": [
    {
     "name": "stdout",
     "output_type": "stream",
     "text": [
      "{'minor': 1, 'adult': 5, 'senior': 2}\n"
     ]
    }
   ],
   "execution_count": 1
  },
  {
   "cell_type": "markdown",
   "id": "6a2eea7a-b43c-4e09-9040-210983983d22",
   "metadata": {},
   "source": [
    "#### Úloha 2: Spracovanie súborov s údajmi o pacientoch\n",
    "\n",
    "Zapište údaje o pacientoch (meno, diagnóza) do súboru s názvom `data/patients.csv`."
   ]
  },
  {
   "cell_type": "raw",
   "id": "b0cfcd94-236a-4423-beaf-24483826a3cc",
   "metadata": {},
   "source": [
    "data = [\n",
    "    [\"Terri Mcmillan\", \"Hypertension\"],\n",
    "    [\"David Thomas\", \"Diabetes\"],\n",
    "    [\"Joshua Stewart\", \"Diabetes\"],\n",
    "    [\"Jeffrey Martinez\", \"Depression\"],\n",
    "    [\"Victor Roth\", \"Chronic Pain\"],\n",
    "    [\"Timothy Schwartz\", \"Chronic Pain\"],\n",
    "    [\"Desiree Palmer\", \"Hypertension\"],\n",
    "    [\"Nathan Leonard\", \"Asthma\"],\n",
    "    [\"Sara Lane\", \"Chronic Pain\"],\n",
    "    [\"Ronald Riley\", \"Asthma\"],\n",
    "    [\"Brian Roberts\", \"Depression\"],\n",
    "    [\"Angel Harrington\", \"Hypertension\"],\n",
    "    [\"Christina Hernandez\", \"Hypertension\"],\n",
    "    [\"Christina Garza\", \"Asthma\"],\n",
    "    [\"Joshua Armstrong\", \"Diabetes\"],\n",
    "    [\"Lisa King\", \"Depression\"],\n",
    "    [\"Erica Ferguson\", \"Diabetes\"],\n",
    "    [\"Jesus Hansen\", \"Asthma\"],\n",
    "    [\"Michael Thompson\", \"Chronic Pain\"],\n",
    "    [\"Alexander Barajas\", \"Asthma\"]\n",
    "]"
   ]
  },
  {
   "cell_type": "code",
   "id": "307144ea-c176-42dd-b2ca-e6bf64ba6227",
   "metadata": {
    "ExecuteTime": {
     "end_time": "2025-03-01T20:38:46.170873Z",
     "start_time": "2025-03-01T20:38:46.166991Z"
    }
   },
   "source": [
    "import csv\n",
    "data = [\n",
    "    [\"Terri Mcmillan\", \"Hypertension\"],\n",
    "    [\"David Thomas\", \"Diabetes\"],\n",
    "    [\"Joshua Stewart\", \"Diabetes\"],\n",
    "    [\"Jeffrey Martinez\", \"Depression\"],\n",
    "    [\"Victor Roth\", \"Chronic Pain\"],\n",
    "    [\"Timothy Schwartz\", \"Chronic Pain\"],\n",
    "    [\"Desiree Palmer\", \"Hypertension\"],\n",
    "    [\"Nathan Leonard\", \"Asthma\"],\n",
    "    [\"Sara Lane\", \"Chronic Pain\"],\n",
    "    [\"Ronald Riley\", \"Asthma\"],\n",
    "    [\"Brian Roberts\", \"Depression\"],\n",
    "    [\"Angel Harrington\", \"Hypertension\"],\n",
    "    [\"Christina Hernandez\", \"Hypertension\"],\n",
    "    [\"Christina Garza\", \"Asthma\"],\n",
    "    [\"Joshua Armstrong\", \"Diabetes\"],\n",
    "    [\"Lisa King\", \"Depression\"],\n",
    "    [\"Erica Ferguson\", \"Diabetes\"],\n",
    "    [\"Jesus Hansen\", \"Asthma\"],\n",
    "    [\"Michael Thompson\", \"Chronic Pain\"],\n",
    "    [\"Alexander Barajas\", \"Asthma\"]\n",
    "]\n",
    "\n",
    "with open(\"data/petients.csv\", mode='w', newline='') as file:\n",
    "    writer = csv.writer(file)\n",
    "    for patient in data:\n",
    "        writer.writerow(patient)\n"
   ],
   "outputs": [],
   "execution_count": 1
  },
  {
   "cell_type": "markdown",
   "id": "b5c43341-bbc8-4073-8c66-fec5371c9486",
   "metadata": {},
   "source": [
    "#### Úloha 3: Načítanie údajov do štruktúry DataFrame a ich vizualizácia\n",
    "\n",
    "Načítajte údaje zo súboru `data/patients.csv` do štruktúry DataFrame (knižnica Pandas).\n",
    "- Vytvorte hlavičku pre tento DataFrame (pridajte názvy stĺpcov - `name` a `diagnosis`)\n",
    "- Pridajte do štruktúry DataFrame nový stĺpec s názvom \"ID\". hodnoty tohto stĺpca tvorí sekvencia čísel od 0 do 19.\n",
    "- Vypíšte hodnoty v stĺpci `diagnosis` a počet hodnôt pre jednotlivé diagnózy."
   ]
  },
  {
   "metadata": {
    "ExecuteTime": {
     "end_time": "2025-03-01T20:41:29.651318Z",
     "start_time": "2025-03-01T20:41:29.645869Z"
    }
   },
   "cell_type": "code",
   "source": [
    "import pandas as pd\n",
    "with open(\"data/patients.csv\", mode=\"r\") as file:\n",
    "    data = pd.read_csv(file, names=[\"name\", \"diagnosis\"])\n",
    "    data[\"ID\"] = range(0, 20)\n",
    "    print(data)\n",
    "\n"
   ],
   "id": "eebfc61aa9ed1419",
   "outputs": [
    {
     "name": "stdout",
     "output_type": "stream",
     "text": [
      "   name diagnosis  ID\n",
      "0   NaN       NaN   0\n",
      "1   NaN       NaN   1\n",
      "2   NaN       NaN   2\n",
      "3   NaN       NaN   3\n",
      "4   NaN       NaN   4\n",
      "5   NaN       NaN   5\n",
      "6   NaN       NaN   6\n",
      "7   NaN       NaN   7\n",
      "8   NaN       NaN   8\n",
      "9   NaN       NaN   9\n",
      "10  NaN       NaN  10\n",
      "11  NaN       NaN  11\n",
      "12  NaN       NaN  12\n",
      "13  NaN       NaN  13\n",
      "14  NaN       NaN  14\n",
      "15  NaN       NaN  15\n",
      "16  NaN       NaN  16\n",
      "17  NaN       NaN  17\n",
      "18  NaN       NaN  18\n",
      "19  NaN       NaN  19\n"
     ]
    }
   ],
   "execution_count": 8
  },
  {
   "metadata": {},
   "cell_type": "markdown",
   "source": [
    "#### Úloha 4: Práca s obrazom\n",
    "Načítajte obrázok data/microscope_g.jpg a vykonajte na ňom operáciu priblíženia a orezania, tak aby na obrázku boli viditeľné iba bunky, nie okulár mikroskopu. (Použite súradnice (300, 550, 1000, 1250) - (left, top, right, bottom)) Nakoniec obrázok zobrazte.\n",
    "\n",
    "Použite funkcie knižnice PIL:\n",
    "   - `Image.open()` - [Dokumentácia open](https://pillow.readthedocs.io/en/stable/reference/Image.html#PIL.Image.open)\n",
    "   - `Image.resize()` - [Dokumentácia resize](https://pillow.readthedocs.io/en/stable/reference/Image.html#PIL.Image.Image.resize)\n",
    "   - `Image.crop()` - [Dokumentácia crop](https://pillow.readthedocs.io/en/stable/reference/Image.html#PIL.Image.Image.crop)\n",
    "   - `Image.show()` - [Dokumentácia show](https://pillow.readthedocs.io/en/stable/reference/Image.html#PIL.Image.Image.show)"
   ],
   "id": "38f28c45201f7d75"
  },
  {
   "metadata": {
    "ExecuteTime": {
     "end_time": "2025-03-06T07:12:10.821724Z",
     "start_time": "2025-03-06T07:12:10.682145Z"
    }
   },
   "cell_type": "code",
   "source": [
    "from PIL import Image\n",
    "\n",
    "image = Image.open(\"data/microscope_g.jpg\")\n",
    "image = image.crop((300, 550, 1000, 1250))\n",
    "image.show()"
   ],
   "id": "b249c9455708945f",
   "outputs": [],
   "execution_count": 6
  },
  {
   "metadata": {},
   "cell_type": "markdown",
   "source": [
    "#### Úloha 5: Vytvorenie triedy a analýza pacientov\n",
    "Vytvorte triedu `PatientData`, ktorá načíta údaje zo CSV súboru do DataFrame a umožní základnú analýzu.\n",
    "- Načítanie CSV súboru v konštruktore (použite súbor `data/patients.csv`) a uloženie do atribútu typu **DataFrame**.\n",
    "- Metóda `count_diagnoses()`, ktorá vráti počet pacientov s jednotlivými diagnózami.\n",
    "- Metóda `get_most_common_diagnosis(n)`, ktorá vráti n najčastejších diagnóz.\n",
    "- Metóda `display_summary()`, ktorá zobrazí základné štatistiky."
   ],
   "id": "8217934c0f610b83"
  },
  {
   "metadata": {
    "ExecuteTime": {
     "end_time": "2025-03-06T07:11:15.387040Z",
     "start_time": "2025-03-06T07:11:15.384688Z"
    }
   },
   "cell_type": "code",
   "source": [
    "class PatientData:\n",
    "    def __init__(self):\n",
    "        with open(\"data/patients.csv\", mode=\"r\") as file:\n",
    "            self.data = pd.read_csv(file, names=[\"name\", \"diagnosis\"])\n",
    "\n",
    "    def count_diagnoses(self):\n",
    "        return self.data[\"diagnosis\"].value_counts()\n",
    "\n",
    "    def get_most_common_diagnosis(self, n):\n",
    "        return self.data[\"diagnosis\"].value_counts().head(n)\n",
    "\n",
    "    def display_summary(self):\n",
    "        print(self.data.describe())"
   ],
   "id": "79bbc777404c6bc6",
   "outputs": [],
   "execution_count": 5
  }
 ],
 "metadata": {
  "kernelspec": {
   "display_name": "Python 3 (ipykernel)",
   "language": "python",
   "name": "python3"
  },
  "language_info": {
   "codemirror_mode": {
    "name": "ipython",
    "version": 3
   },
   "file_extension": ".py",
   "mimetype": "text/x-python",
   "name": "python",
   "nbconvert_exporter": "python",
   "pygments_lexer": "ipython3",
   "version": "3.12.1"
  }
 },
 "nbformat": 4,
 "nbformat_minor": 5
}
